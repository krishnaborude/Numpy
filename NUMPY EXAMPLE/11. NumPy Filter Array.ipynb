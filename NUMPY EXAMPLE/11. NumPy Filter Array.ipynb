{
 "cells": [
  {
   "cell_type": "markdown",
   "id": "75d44d1a",
   "metadata": {},
   "source": [
    "🔹 What is Filtering?\n",
    "\n",
    "Filtering means selecting elements from an array based on conditions.\n",
    "\n",
    "👉 In NumPy, we use boolean masks for this."
   ]
  },
  {
   "cell_type": "markdown",
   "id": "039bb0ea",
   "metadata": {},
   "source": [
    "🔹 1. Basic Filtering with Boolean Mask"
   ]
  },
  {
   "cell_type": "code",
   "execution_count": 1,
   "id": "b9140eee",
   "metadata": {},
   "outputs": [
    {
     "name": "stdout",
     "output_type": "stream",
     "text": [
      "[False False  True  True  True]\n",
      "[30 40 50]\n"
     ]
    }
   ],
   "source": [
    "import numpy as np\n",
    "\n",
    "arr = np.array([10, 20, 30, 40, 50])\n",
    "\n",
    "mask = arr > 25     # Boolean mask\n",
    "print(mask)         # [False False  True  True  True]\n",
    "\n",
    "filtered = arr[mask]\n",
    "print(filtered)     # [30 40 50]\n"
   ]
  },
  {
   "cell_type": "markdown",
   "id": "f1d9f6f3",
   "metadata": {},
   "source": [
    "🔹 2. Direct Filtering\n",
    "\n",
    "Instead of creating a mask separately:"
   ]
  },
  {
   "cell_type": "code",
   "execution_count": 2,
   "id": "f461ab08",
   "metadata": {},
   "outputs": [
    {
     "name": "stdout",
     "output_type": "stream",
     "text": [
      "[20 40]\n",
      "[10 20 30]\n"
     ]
    }
   ],
   "source": [
    "print(arr[arr % 20 == 0])   # [20 40]\n",
    "print(arr[arr < 35])        # [10 20 30]\n"
   ]
  },
  {
   "cell_type": "markdown",
   "id": "6ccfdcbd",
   "metadata": {},
   "source": [
    "🔹 3. Filtering in 2D Arrays"
   ]
  },
  {
   "cell_type": "code",
   "execution_count": 3,
   "id": "1de05d16",
   "metadata": {},
   "outputs": [
    {
     "name": "stdout",
     "output_type": "stream",
     "text": [
      "[6 7 8 9]\n"
     ]
    }
   ],
   "source": [
    "mat = np.array([[1, 2, 3],\n",
    "                [4, 5, 6],\n",
    "                [7, 8, 9]])\n",
    "\n",
    "# Get values > 5\n",
    "print(mat[mat > 5])   # [6 7 8 9]\n"
   ]
  },
  {
   "cell_type": "markdown",
   "id": "715f7d52",
   "metadata": {},
   "source": [
    "🔹 4. Combining Multiple Conditions\n",
    "\n",
    "Use & (AND), | (OR), ~ (NOT).\n",
    "\n",
    "⚠️ Wrap each condition in ()."
   ]
  },
  {
   "cell_type": "code",
   "execution_count": 4,
   "id": "4767abc3",
   "metadata": {},
   "outputs": [
    {
     "name": "stdout",
     "output_type": "stream",
     "text": [
      "[30 40]\n",
      "[10 50]\n",
      "[10 20 30]\n"
     ]
    }
   ],
   "source": [
    "arr = np.array([10, 20, 30, 40, 50])\n",
    "\n",
    "print(arr[(arr > 20) & (arr < 50)])   # [30 40]\n",
    "print(arr[(arr == 10) | (arr == 50)]) # [10 50]\n",
    "print(arr[~(arr > 30)])               # [10 20 30]\n"
   ]
  },
  {
   "cell_type": "markdown",
   "id": "0633a0e8",
   "metadata": {},
   "source": [
    "🔹 5. Example with Strings"
   ]
  },
  {
   "cell_type": "code",
   "execution_count": 5,
   "id": "18f6e552",
   "metadata": {},
   "outputs": [
    {
     "name": "stdout",
     "output_type": "stream",
     "text": [
      "['apple' 'cherry' 'date' 'fig']\n",
      "['cherry']\n"
     ]
    }
   ],
   "source": [
    "fruits = np.array([\"apple\", \"banana\", \"cherry\", \"date\", \"fig\"])\n",
    "\n",
    "print(fruits[fruits != \"banana\"])      # ['apple' 'cherry' 'date' 'fig']\n",
    "print(fruits[np.char.startswith(fruits, \"c\")])  # ['cherry']\n"
   ]
  },
  {
   "cell_type": "markdown",
   "id": "9657be62",
   "metadata": {},
   "source": [
    "🔹 6. np.isin() → Filter by Membership\n",
    "\n",
    "Check if elements belong to a list of values."
   ]
  },
  {
   "cell_type": "code",
   "execution_count": 6,
   "id": "baf61de5",
   "metadata": {},
   "outputs": [
    {
     "name": "stdout",
     "output_type": "stream",
     "text": [
      "[20 40]\n"
     ]
    }
   ],
   "source": [
    "arr = np.array([10, 20, 30, 40, 50])\n",
    "\n",
    "mask = np.isin(arr, [20, 40])\n",
    "print(arr[mask])   # [20 40]\n"
   ]
  },
  {
   "cell_type": "markdown",
   "id": "e7489308",
   "metadata": {},
   "source": [
    "✅ Summary:\n",
    "\n",
    "Filtering uses boolean masks (arr[condition]).\n",
    "\n",
    "Combine conditions with &, |, ~.\n",
    "\n",
    "Works on numbers, strings, and 2D arrays.\n",
    "\n",
    "Use np.isin() for membership filtering."
   ]
  },
  {
   "cell_type": "code",
   "execution_count": null,
   "id": "98246768",
   "metadata": {},
   "outputs": [],
   "source": []
  }
 ],
 "metadata": {
  "kernelspec": {
   "display_name": "Python 3",
   "language": "python",
   "name": "python3"
  },
  "language_info": {
   "codemirror_mode": {
    "name": "ipython",
    "version": 3
   },
   "file_extension": ".py",
   "mimetype": "text/x-python",
   "name": "python",
   "nbconvert_exporter": "python",
   "pygments_lexer": "ipython3",
   "version": "3.10.11"
  }
 },
 "nbformat": 4,
 "nbformat_minor": 5
}
