{
 "cells": [
  {
   "cell_type": "markdown",
   "id": "f043cd8d",
   "metadata": {},
   "source": [
    "🔹 What are NumPy Data Types?\n",
    "\n",
    "Every NumPy array has a data type (dtype) that defines the kind of elements it holds (integers, floats, strings, etc.).\n",
    "👉 NumPy uses its own types for better speed and memory efficiency."
   ]
  },
  {
   "cell_type": "code",
   "execution_count": 1,
   "id": "1d41cc47",
   "metadata": {},
   "outputs": [
    {
     "name": "stdout",
     "output_type": "stream",
     "text": [
      "int64\n",
      "float64\n"
     ]
    }
   ],
   "source": [
    "import numpy as np\n",
    "\n",
    "arr = np.array([1, 2, 3])\n",
    "print(arr.dtype)   # int32 or int64 (depends on system)\n",
    "\n",
    "arr2 = np.array([1.5, 2.3, 3.7])\n",
    "print(arr2.dtype)  # float64"
   ]
  },
  {
   "cell_type": "markdown",
   "id": "2aa1555c",
   "metadata": {},
   "source": [
    "🔹 Common NumPy Data Types"
   ]
  },
  {
   "cell_type": "markdown",
   "id": "efbdd981",
   "metadata": {},
   "source": [
    "| Data Type    | Description                        | Example                          |\n",
    "| ------------ | ---------------------------------- | -------------------------------- |\n",
    "| `int8`       | Integer (-128 to 127)              | `np.array([1,2], dtype=np.int8)` |\n",
    "| `int16`      | Integer (-32,768 to 32,767)        |                                  |\n",
    "| `int32`      | Integer (-2^31 to 2^31-1)          | Default on 32-bit systems        |\n",
    "| `int64`      | Integer (-2^63 to 2^63-1)          | Default on 64-bit systems        |\n",
    "| `float16`    | Half precision float               |                                  |\n",
    "| `float32`    | Single precision float             |                                  |\n",
    "| `float64`    | Double precision float (default)   |                                  |\n",
    "| `complex64`  | Complex number (two 32-bit floats) |                                  |\n",
    "| `complex128` | Complex number (two 64-bit floats) |                                  |\n",
    "| `bool_`      | Boolean (True/False)               |                                  |\n",
    "| `str_`       | String (fixed-length, Unicode)     |                                  |\n",
    "| `object_`    | Python objects                     |                                  |\n"
   ]
  },
  {
   "cell_type": "markdown",
   "id": "74f387f8",
   "metadata": {},
   "source": [
    "🔹 Specifying Data Type\n",
    "\n",
    "You can set dtype while creating an array:"
   ]
  },
  {
   "cell_type": "code",
   "execution_count": 2,
   "id": "84617837",
   "metadata": {},
   "outputs": [
    {
     "name": "stdout",
     "output_type": "stream",
     "text": [
      "[1. 2. 3.]\n",
      "float32\n"
     ]
    }
   ],
   "source": [
    "arr = np.array([1, 2, 3], dtype=np.float32)\n",
    "print(arr)\n",
    "print(arr.dtype)   # float32\n"
   ]
  },
  {
   "cell_type": "markdown",
   "id": "8944ae8f",
   "metadata": {},
   "source": [
    "🔹 Type Conversion (astype())\n",
    "\n",
    "Convert from one data type to another:"
   ]
  },
  {
   "cell_type": "code",
   "execution_count": 3,
   "id": "658a8d4d",
   "metadata": {},
   "outputs": [
    {
     "name": "stdout",
     "output_type": "stream",
     "text": [
      "[1 2 3]\n",
      "int64\n"
     ]
    }
   ],
   "source": [
    "arr = np.array([1.1, 2.5, 3.8])\n",
    "new_arr = arr.astype(int)   # Convert float → int\n",
    "print(new_arr)   # [1 2 3]\n",
    "print(new_arr.dtype)  # int32\n"
   ]
  },
  {
   "cell_type": "markdown",
   "id": "be8e2bc2",
   "metadata": {},
   "source": [
    "🔹 Checking & Understanding dtypes"
   ]
  },
  {
   "cell_type": "code",
   "execution_count": 4,
   "id": "7346b2d0",
   "metadata": {},
   "outputs": [
    {
     "name": "stdout",
     "output_type": "stream",
     "text": [
      "int64\n",
      "Machine parameters for int32\n",
      "---------------------------------------------------------------\n",
      "min = -2147483648\n",
      "max = 2147483647\n",
      "---------------------------------------------------------------\n",
      "\n",
      "Machine parameters for float32\n",
      "---------------------------------------------------------------\n",
      "precision =   6   resolution = 1.0000000e-06\n",
      "machep =    -23   eps =        1.1920929e-07\n",
      "negep =     -24   epsneg =     5.9604645e-08\n",
      "minexp =   -126   tiny =       1.1754944e-38\n",
      "maxexp =    128   max =        3.4028235e+38\n",
      "nexp =        8   min =        -max\n",
      "smallest_normal = 1.1754944e-38   smallest_subnormal = 1.4012985e-45\n",
      "---------------------------------------------------------------\n",
      "\n"
     ]
    }
   ],
   "source": [
    "arr = np.array([10, 20, 30])\n",
    "print(arr.dtype)        # int32/int64\n",
    "\n",
    "print(np.iinfo(np.int32))  # Info about int32 (min, max)\n",
    "print(np.finfo(np.float32)) # Info about float32 (precision, min, max)\n"
   ]
  },
  {
   "cell_type": "markdown",
   "id": "9a8ced78",
   "metadata": {},
   "source": [
    "🔹 Example with Mixed Types\n",
    "\n",
    "If you give NumPy mixed data, it upcasts to the most general type:"
   ]
  },
  {
   "cell_type": "code",
   "execution_count": 5,
   "id": "c0bd174d",
   "metadata": {},
   "outputs": [
    {
     "name": "stdout",
     "output_type": "stream",
     "text": [
      "[1.  2.5 3. ]\n",
      "float64\n"
     ]
    }
   ],
   "source": [
    "arr = np.array([1, 2.5, 3])\n",
    "print(arr)        # [1.  2.5  3. ]\n",
    "print(arr.dtype)  # float64\n"
   ]
  },
  {
   "cell_type": "code",
   "execution_count": null,
   "id": "26bbe44e",
   "metadata": {},
   "outputs": [],
   "source": []
  }
 ],
 "metadata": {
  "kernelspec": {
   "display_name": "Python 3",
   "language": "python",
   "name": "python3"
  },
  "language_info": {
   "codemirror_mode": {
    "name": "ipython",
    "version": 3
   },
   "file_extension": ".py",
   "mimetype": "text/x-python",
   "name": "python",
   "nbconvert_exporter": "python",
   "pygments_lexer": "ipython3",
   "version": "3.10.11"
  }
 },
 "nbformat": 4,
 "nbformat_minor": 5
}
