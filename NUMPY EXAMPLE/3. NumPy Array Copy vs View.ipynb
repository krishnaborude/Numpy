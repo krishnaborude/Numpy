{
 "cells": [
  {
   "cell_type": "markdown",
   "id": "5e1133a7",
   "metadata": {},
   "source": [
    "🔹 Copy vs View in NumPy\n",
    "1. Copy (.copy())\n",
    "\n",
    "Creates a new array with its own data in memory.\n",
    "\n",
    "Changing the copy does NOT affect the original."
   ]
  },
  {
   "cell_type": "code",
   "execution_count": 1,
   "id": "075ab8a1",
   "metadata": {},
   "outputs": [
    {
     "name": "stdout",
     "output_type": "stream",
     "text": [
      "Original: [10 20 30 40]\n",
      "Copy: [99 20 30 40]\n"
     ]
    }
   ],
   "source": [
    "import numpy as np\n",
    "\n",
    "arr = np.array([10, 20, 30, 40])\n",
    "\n",
    "copy_arr = arr.copy()   # Make a full copy\n",
    "copy_arr[0] = 99\n",
    "\n",
    "print(\"Original:\", arr)    # [10 20 30 40]\n",
    "print(\"Copy:\", copy_arr)   # [99 20 30 40]\n"
   ]
  },
  {
   "cell_type": "markdown",
   "id": "000480b3",
   "metadata": {},
   "source": [
    "✅ Safe to use when you don’t want changes in one array to affect the other."
   ]
  },
  {
   "cell_type": "markdown",
   "id": "a5c82692",
   "metadata": {},
   "source": [
    "2. View (.view())\n",
    "\n",
    "Creates a new array object, but it shares the same data as the original.\n",
    "\n",
    "Changing the view affects the original, and vice versa."
   ]
  },
  {
   "cell_type": "code",
   "execution_count": 2,
   "id": "2c998b8d",
   "metadata": {},
   "outputs": [
    {
     "name": "stdout",
     "output_type": "stream",
     "text": [
      "Original: [99 20 30 40]\n",
      "View: [99 20 30 40]\n"
     ]
    }
   ],
   "source": [
    "arr = np.array([10, 20, 30, 40])\n",
    "\n",
    "view_arr = arr.view()\n",
    "view_arr[0] = 99\n",
    "\n",
    "print(\"Original:\", arr)   # [99 20 30 40]\n",
    "print(\"View:\", view_arr)  # [99 20 30 40]\n"
   ]
  },
  {
   "cell_type": "markdown",
   "id": "5c559586",
   "metadata": {},
   "source": [
    "⚠️ Warning: Views don’t copy data, so they are faster & memory efficient, but risky if you don’t want changes."
   ]
  },
  {
   "cell_type": "markdown",
   "id": "417d3419",
   "metadata": {},
   "source": [
    "3. Check if Array Owns Data\n",
    "\n",
    "You can check if an array owns its data using .base attribute:"
   ]
  },
  {
   "cell_type": "code",
   "execution_count": 3,
   "id": "08e19510",
   "metadata": {},
   "outputs": [
    {
     "name": "stdout",
     "output_type": "stream",
     "text": [
      "None\n",
      "[1 2 3 4]\n"
     ]
    }
   ],
   "source": [
    "arr = np.array([1, 2, 3, 4])\n",
    "\n",
    "copy_arr = arr.copy()\n",
    "view_arr = arr.view()\n",
    "\n",
    "print(copy_arr.base)  # None (it has its own data)\n",
    "print(view_arr.base)  # Shows original array (it’s a view)\n"
   ]
  },
  {
   "cell_type": "markdown",
   "id": "15dc7607",
   "metadata": {},
   "source": [
    "🔹 Quick Comparison"
   ]
  },
  {
   "cell_type": "markdown",
   "id": "1e3354ca",
   "metadata": {},
   "source": [
    "| Feature         | Copy (`.copy()`)   | View (`.view()`)    |\n",
    "| --------------- | ------------------ | ------------------- |\n",
    "| Data Storage    | New memory block   | Shares same memory  |\n",
    "| Speed           | Slower (full copy) | Faster              |\n",
    "| Memory Usage    | More (duplicate)   | Less (no duplicate) |\n",
    "| Changes affect? | No (independent)   | Yes (linked)        |\n"
   ]
  },
  {
   "cell_type": "markdown",
   "id": "e5ce10c0",
   "metadata": {},
   "source": [
    "✅ Use copy when you need independence.\n",
    "\n",
    "✅ Use view when you want efficiency but don’t mind linked changes."
   ]
  }
 ],
 "metadata": {
  "kernelspec": {
   "display_name": "Python 3",
   "language": "python",
   "name": "python3"
  },
  "language_info": {
   "codemirror_mode": {
    "name": "ipython",
    "version": 3
   },
   "file_extension": ".py",
   "mimetype": "text/x-python",
   "name": "python",
   "nbconvert_exporter": "python",
   "pygments_lexer": "ipython3",
   "version": "3.10.11"
  }
 },
 "nbformat": 4,
 "nbformat_minor": 5
}
