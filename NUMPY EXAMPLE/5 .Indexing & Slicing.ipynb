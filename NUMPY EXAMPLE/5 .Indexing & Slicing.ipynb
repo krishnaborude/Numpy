{
 "cells": [
  {
   "cell_type": "markdown",
   "id": "09d0288d",
   "metadata": {},
   "source": [
    "🔹 1. Basic Indexing\n",
    "\n",
    "Like Python lists, NumPy arrays use zero-based indexing."
   ]
  },
  {
   "cell_type": "code",
   "execution_count": null,
   "id": "f85baefb",
   "metadata": {},
   "outputs": [],
   "source": [
    "import numpy as np\n",
    "\n",
    "arr = np.array([10, 20, 30, 40, 50])\n",
    "\n",
    "print(arr[0])   # First element → 10\n",
    "print(arr[2])   # Third element → 30\n",
    "print(arr[-1])  # Last element → 50\n",
    "print(arr[1:4]) # Elements from index 1 to 3 → [20 30 40]"
   ]
  },
  {
   "cell_type": "markdown",
   "id": "a177a94b",
   "metadata": {},
   "source": [
    "🔹 2. Slicing 1D Arrays\n",
    "\n",
    "Syntax: array[start:end:step]\n",
    "\n",
    "start → index where slice begins (default = 0)\n",
    "\n",
    "end → index where slice ends (not included)\n",
    "\n",
    "step → interval (default = 1)"
   ]
  },
  {
   "cell_type": "code",
   "execution_count": null,
   "id": "0298fcd2",
   "metadata": {},
   "outputs": [],
   "source": [
    "print(arr[1:4])   # [20 30 40]\n",
    "print(arr[:3])    # [10 20 30]  (from start)\n",
    "print(arr[2:])    # [30 40 50]  (till end)\n",
    "print(arr[::2])   # [10 30 50]  (every 2nd element)\n",
    "print(arr[::-1])  # [50 40 30 20 10] (reverse array)\n"
   ]
  },
  {
   "cell_type": "markdown",
   "id": "aaa1c1c6",
   "metadata": {},
   "source": [
    "🔹 3. Indexing in 2D Arrays\n",
    "\n",
    "For matrices (2D arrays), use [row, column]."
   ]
  },
  {
   "cell_type": "code",
   "execution_count": null,
   "id": "91f1d4f8",
   "metadata": {},
   "outputs": [],
   "source": [
    "mat = np.array([[1, 2, 3],\n",
    "                [4, 5, 6],\n",
    "                [7, 8, 9]])\n",
    "\n",
    "print(mat[0, 0])  # First row, first column → 1\n",
    "print(mat[1, 2])  # Second row, third column → 6\n",
    "print(mat[-1, -1]) # Last row, last column → 9\n"
   ]
  },
  {
   "cell_type": "markdown",
   "id": "1e2b636a",
   "metadata": {},
   "source": [
    "🔹 4. Slicing in 2D Arrays"
   ]
  },
  {
   "cell_type": "code",
   "execution_count": null,
   "id": "5919276d",
   "metadata": {},
   "outputs": [],
   "source": [
    "# Get first two rows and columns\n",
    "print(mat[:2, :2]) \n",
    "# [[1 2]\n",
    "#  [4 5]]\n",
    "\n",
    "# Get first column\n",
    "print(mat[:, 0])  # [1 4 7]\n",
    "\n",
    "# Get last row\n",
    "print(mat[-1, :])  # [7 8 9]\n",
    "\n",
    "# Get middle column\n",
    "print(mat[:, 1])  # [2 5 8]\n"
   ]
  },
  {
   "cell_type": "markdown",
   "id": "4ae7cd46",
   "metadata": {},
   "source": [
    "🔹 5. Fancy Indexing\n",
    "\n",
    "You can use a list of indices."
   ]
  },
  {
   "cell_type": "code",
   "execution_count": null,
   "id": "2aea8bb4",
   "metadata": {},
   "outputs": [],
   "source": [
    "arr = np.array([10, 20, 30, 40, 50])\n",
    "print(arr[[0, 2, 4]])  # [10 30 50]\n"
   ]
  },
  {
   "cell_type": "markdown",
   "id": "57233d91",
   "metadata": {},
   "source": [
    "For 2D arrays:"
   ]
  },
  {
   "cell_type": "code",
   "execution_count": null,
   "id": "651408a0",
   "metadata": {},
   "outputs": [],
   "source": [
    "print(mat[[0, 2], [1, 2]])  # [2 9] → (0,1) and (2,2)"
   ]
  },
  {
   "cell_type": "markdown",
   "id": "b9d012f8",
   "metadata": {},
   "source": [
    "🔹 6. Boolean Indexing\n",
    "\n",
    "You can filter values with conditions:"
   ]
  },
  {
   "cell_type": "code",
   "execution_count": null,
   "id": "93260512",
   "metadata": {},
   "outputs": [],
   "source": [
    "arr = np.array([10, 20, 30, 40, 50])\n",
    "\n",
    "print(arr[arr > 25])   # [30 40 50]\n",
    "print(arr[arr % 20 == 0])  # [20 40]"
   ]
  }
 ],
 "metadata": {
  "language_info": {
   "name": "python"
  }
 },
 "nbformat": 4,
 "nbformat_minor": 5
}
