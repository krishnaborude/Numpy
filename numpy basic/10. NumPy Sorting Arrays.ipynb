{
 "cells": [
  {
   "cell_type": "markdown",
   "id": "45844a95",
   "metadata": {},
   "source": [
    "🔹 1. np.sort() → Returns a Sorted Copy"
   ]
  },
  {
   "cell_type": "code",
   "execution_count": 1,
   "id": "ed720058",
   "metadata": {},
   "outputs": [
    {
     "name": "stdout",
     "output_type": "stream",
     "text": [
      "Original: [30 10 50 20 40]\n",
      "Sorted Copy: [10 20 30 40 50]\n"
     ]
    }
   ],
   "source": [
    "import numpy as np\n",
    "\n",
    "arr = np.array([30, 10, 50, 20, 40])\n",
    "sorted_arr = np.sort(arr)\n",
    "\n",
    "print(\"Original:\", arr)       # [30 10 50 20 40]\n",
    "print(\"Sorted Copy:\", sorted_arr)  # [10 20 30 40 50]\n"
   ]
  },
  {
   "cell_type": "markdown",
   "id": "781c6cc0",
   "metadata": {},
   "source": [
    "✅ Original array stays the same."
   ]
  },
  {
   "cell_type": "markdown",
   "id": "fe7314f1",
   "metadata": {},
   "source": [
    "🔹 2. ndarray.sort() → Sort In-Place"
   ]
  },
  {
   "cell_type": "code",
   "execution_count": 2,
   "id": "d3395b68",
   "metadata": {},
   "outputs": [
    {
     "name": "stdout",
     "output_type": "stream",
     "text": [
      "[10 20 30 40 50]\n"
     ]
    }
   ],
   "source": [
    "arr = np.array([30, 10, 50, 20, 40])\n",
    "arr.sort()   # modifies original array\n",
    "print(arr)   # [10 20 30 40 50]\n"
   ]
  },
  {
   "cell_type": "markdown",
   "id": "81ca4ef1",
   "metadata": {},
   "source": [
    "🔹 3. Sorting Strings"
   ]
  },
  {
   "cell_type": "code",
   "execution_count": 3,
   "id": "81c22b15",
   "metadata": {},
   "outputs": [
    {
     "name": "stdout",
     "output_type": "stream",
     "text": [
      "['apple' 'banana' 'cherry']\n"
     ]
    }
   ],
   "source": [
    "arr = np.array([\"banana\", \"apple\", \"cherry\"])\n",
    "print(np.sort(arr))   # ['apple' 'banana' 'cherry']\n"
   ]
  },
  {
   "cell_type": "markdown",
   "id": "e731e069",
   "metadata": {},
   "source": [
    "🔹 4. Sorting Booleans"
   ]
  },
  {
   "cell_type": "code",
   "execution_count": 4,
   "id": "2a0ed7ae",
   "metadata": {},
   "outputs": [
    {
     "name": "stdout",
     "output_type": "stream",
     "text": [
      "[False  True  True]\n"
     ]
    }
   ],
   "source": [
    "arr = np.array([True, False, True])\n",
    "print(np.sort(arr))   # [False  True  True]\n"
   ]
  },
  {
   "cell_type": "markdown",
   "id": "82f69e60",
   "metadata": {},
   "source": [
    "🔹 5. Sorting 2D Arrays"
   ]
  },
  {
   "cell_type": "code",
   "execution_count": 5,
   "id": "ec84707d",
   "metadata": {},
   "outputs": [
    {
     "name": "stdout",
     "output_type": "stream",
     "text": [
      "[[1 2 3]\n",
      " [4 5 6]]\n",
      "[[3 2 1]\n",
      " [6 5 4]]\n"
     ]
    }
   ],
   "source": [
    "mat = np.array([[3, 2, 1],\n",
    "                [6, 5, 4]])\n",
    "\n",
    "print(np.sort(mat))          # Sorts each row\n",
    "# [[1 2 3]\n",
    "#  [4 5 6]]\n",
    "\n",
    "print(np.sort(mat, axis=0))  # Sort column-wise\n",
    "# [[3 2 1]\n",
    "#  [6 5 4]]\n"
   ]
  },
  {
   "cell_type": "markdown",
   "id": "7124b65b",
   "metadata": {},
   "source": [
    "🔹 6. Argsort → Get Sorted Indexes\n",
    "\n",
    "Instead of sorting values, get the indices that would sort the array."
   ]
  },
  {
   "cell_type": "code",
   "execution_count": 6,
   "id": "1d859895",
   "metadata": {},
   "outputs": [
    {
     "name": "stdout",
     "output_type": "stream",
     "text": [
      "[1 3 0 4 2]\n",
      "[10 20 30 40 50]\n"
     ]
    }
   ],
   "source": [
    "arr = np.array([30, 10, 50, 20, 40])\n",
    "idx = np.argsort(arr)\n",
    "\n",
    "print(idx)        # [1 3 0 4 2]\n",
    "print(arr[idx])   # [10 20 30 40 50]\n"
   ]
  },
  {
   "cell_type": "markdown",
   "id": "a0eb1ba3",
   "metadata": {},
   "source": [
    "🔹 7. Lexsort → Sort by Multiple Keys\n",
    "\n",
    "Useful for sorting by 2 conditions (like Excel multiple-column sort)."
   ]
  },
  {
   "cell_type": "code",
   "execution_count": 7,
   "id": "14d0ec99",
   "metadata": {},
   "outputs": [
    {
     "name": "stdout",
     "output_type": "stream",
     "text": [
      "[3 2 0 1]\n",
      "['Bob' 'Alice' 'John' 'Jane']\n"
     ]
    }
   ],
   "source": [
    "names = np.array(['John', 'Jane', 'Alice', 'Bob'])\n",
    "ages = np.array([25, 30, 25, 20])\n",
    "\n",
    "idx = np.lexsort((names, ages))  \n",
    "print(idx)        # [3 2 0 1]\n",
    "print(names[idx]) # ['Bob' 'Alice' 'John' 'Jane']\n"
   ]
  },
  {
   "cell_type": "markdown",
   "id": "2bab0ee3",
   "metadata": {},
   "source": [
    "👉 First sorts by ages, then by names if ages are equal."
   ]
  },
  {
   "cell_type": "markdown",
   "id": "d649f4ba",
   "metadata": {},
   "source": [
    "✅ Summary:\n",
    "\n",
    "np.sort() → Returns sorted copy\n",
    "\n",
    ".sort() → Sort in-place\n",
    "\n",
    "np.argsort() → Indices of sorted array\n",
    "\n",
    "np.lexsort() → Multiple key sorting\n",
    "\n",
    "Works on numbers, strings, booleans, 1D & 2D"
   ]
  }
 ],
 "metadata": {
  "kernelspec": {
   "display_name": "Python 3",
   "language": "python",
   "name": "python3"
  },
  "language_info": {
   "codemirror_mode": {
    "name": "ipython",
    "version": 3
   },
   "file_extension": ".py",
   "mimetype": "text/x-python",
   "name": "python",
   "nbconvert_exporter": "python",
   "pygments_lexer": "ipython3",
   "version": "3.10.11"
  }
 },
 "nbformat": 4,
 "nbformat_minor": 5
}
