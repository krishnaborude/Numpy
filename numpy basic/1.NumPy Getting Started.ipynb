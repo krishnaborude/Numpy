{
 "cells": [
  {
   "cell_type": "markdown",
   "id": "37852796",
   "metadata": {},
   "source": [
    "# What is NumPy?\n",
    "\n",
    "* NumPy stands for Numerical Python.\n",
    "\n",
    "* It is used for:\n",
    "\n",
    "    * Working with arrays (much faster than Python lists).\n",
    "\n",
    "    * Performing mathematical operations.\n",
    "\n",
    "    * Handling linear algebra, statistics, random numbers, and more."
   ]
  },
  {
   "cell_type": "markdown",
   "id": "4f3d2a07",
   "metadata": {},
   "source": [
    "🔹 Installation"
   ]
  },
  {
   "cell_type": "code",
   "execution_count": null,
   "id": "145b49d7",
   "metadata": {},
   "outputs": [],
   "source": [
    "# pip install numpy"
   ]
  },
  {
   "cell_type": "markdown",
   "id": "6ef7915c",
   "metadata": {},
   "source": [
    "Import it in Python (commonly as np):    "
   ]
  },
  {
   "cell_type": "code",
   "execution_count": 1,
   "id": "bda27d68",
   "metadata": {},
   "outputs": [],
   "source": [
    "import numpy as np"
   ]
  },
  {
   "cell_type": "markdown",
   "id": "66ead880",
   "metadata": {},
   "source": [
    "🔹 Creating Arrays\n",
    "\n",
    "NumPy mainly works with ndarray (n-dimensional array)."
   ]
  },
  {
   "cell_type": "code",
   "execution_count": 1,
   "id": "1459a1ab",
   "metadata": {},
   "outputs": [
    {
     "name": "stdout",
     "output_type": "stream",
     "text": [
      "[1 2 3 4 5]\n",
      "[[1 2 3]\n",
      " [4 5 6]]\n",
      "[[0. 0. 0.]\n",
      " [0. 0. 0.]]\n",
      "[[1. 1. 1.]\n",
      " [1. 1. 1.]\n",
      " [1. 1. 1.]]\n",
      "[0 2 4 6 8]\n",
      "[0.   0.25 0.5  0.75 1.  ]\n",
      "[[1. 0. 0.]\n",
      " [0. 1. 0.]\n",
      " [0. 0. 1.]]\n",
      "[[1. 0. 0. 0.]\n",
      " [0. 1. 0. 0.]\n",
      " [0. 0. 1. 0.]\n",
      " [0. 0. 0. 1.]]\n"
     ]
    }
   ],
   "source": [
    "import numpy as np\n",
    "\n",
    "# 1D Array\n",
    "arr1 = np.array([1, 2, 3, 4, 5])\n",
    "print(arr1)\n",
    "\n",
    "# 2D Array (Matrix)\n",
    "arr2 = np.array([[1, 2, 3], [4, 5, 6]])\n",
    "print(arr2)\n",
    "\n",
    "# Array filled with zeros\n",
    "zeros = np.zeros((2, 3))\n",
    "print(zeros)\n",
    "\n",
    "# Array filled with ones\n",
    "ones = np.ones((3, 3))\n",
    "print(ones)\n",
    "\n",
    "# Range of numbers\n",
    "arr3 = np.arange(0, 10, 2)  # start=0, stop=10, step=2\n",
    "print(arr3)\n",
    "\n",
    "# Evenly spaced numbers\n",
    "arr4 = np.linspace(0, 1, 5)\n",
    "print(arr4)\n",
    "\n",
    "arr5 = np.identity(3)\n",
    "print(arr5)\n",
    "\n",
    "arr6 = np.eye(4)\n",
    "print(arr6)"
   ]
  },
  {
   "cell_type": "markdown",
   "id": "96cc28dd",
   "metadata": {},
   "source": [
    "🔹 Basic Array Operations"
   ]
  },
  {
   "cell_type": "code",
   "execution_count": null,
   "id": "c20af4af",
   "metadata": {},
   "outputs": [],
   "source": [
    "arr = np.array([1, 2, 3, 4])\n",
    "\n",
    "print(arr + 5)   # Add 5 to each element\n",
    "print(arr * 2)   # Multiply each element by 2\n",
    "print(arr ** 2)  # Square each element\n",
    "\n",
    "# Mathematical functions\n",
    "print(np.sqrt(arr))   # Square root\n",
    "print(np.mean(arr))   # Mean\n",
    "print(np.max(arr))    # Max value\n",
    "print(np.min(arr))    # Min value\n",
    "print(np.sum(arr))    # Sum of all elements\n",
    "print(np.std(arr))    # Standard deviation\n",
    "print(np.median(arr)) # Median\n",
    "print(np.var(arr))    # Variance"
   ]
  },
  {
   "cell_type": "markdown",
   "id": "4c1737ca",
   "metadata": {},
   "source": [
    "🔹 Indexing & Slicing"
   ]
  },
  {
   "cell_type": "code",
   "execution_count": null,
   "id": "f3675c55",
   "metadata": {},
   "outputs": [],
   "source": [
    "arr = np.array([10, 20, 30, 40, 50])\n",
    "\n",
    "print(arr[0])     # First element\n",
    "print(arr[-1])    # Last element\n",
    "print(arr[1:4])   # Slice from index 1 to 3\n",
    "print(arr[:3])    # First three elements\n",
    "print(arr[::2])   # Every 2nd element"
   ]
  }
 ],
 "metadata": {
  "kernelspec": {
   "display_name": "Python 3",
   "language": "python",
   "name": "python3"
  },
  "language_info": {
   "codemirror_mode": {
    "name": "ipython",
    "version": 3
   },
   "file_extension": ".py",
   "mimetype": "text/x-python",
   "name": "python",
   "nbconvert_exporter": "python",
   "pygments_lexer": "ipython3",
   "version": "3.10.11"
  }
 },
 "nbformat": 4,
 "nbformat_minor": 5
}
