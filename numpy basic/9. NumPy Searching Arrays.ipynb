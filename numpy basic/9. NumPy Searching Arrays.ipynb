{
 "cells": [
  {
   "cell_type": "markdown",
   "id": "f34dd3ae",
   "metadata": {},
   "source": [
    "# NumPy Searching Arrays"
   ]
  },
  {
   "cell_type": "markdown",
   "id": "bcab8a21",
   "metadata": {},
   "source": [
    "🔹 1. np.where() → Find Indexes\n",
    "\n",
    "Returns the indexes of elements that match a condition."
   ]
  },
  {
   "cell_type": "code",
   "execution_count": 1,
   "id": "5290cb9c",
   "metadata": {},
   "outputs": [
    {
     "name": "stdout",
     "output_type": "stream",
     "text": [
      "(array([2]),)\n",
      "(array([2, 3, 4]),)\n"
     ]
    }
   ],
   "source": [
    "import numpy as np\n",
    "\n",
    "arr = np.array([10, 20, 30, 40, 50])\n",
    "\n",
    "# Find indexes where arr == 30\n",
    "idx = np.where(arr == 30)\n",
    "print(idx)   # (array([2]),)\n",
    "\n",
    "# Find indexes where arr > 25\n",
    "idx2 = np.where(arr > 25)\n",
    "print(idx2)  # (array([2, 3, 4]),)\n"
   ]
  },
  {
   "cell_type": "markdown",
   "id": "d5cd757f",
   "metadata": {},
   "source": [
    "🔹 2. np.searchsorted() → Binary Search Index\n",
    "\n",
    "Finds the position where an element should be inserted to keep the array sorted."
   ]
  },
  {
   "cell_type": "code",
   "execution_count": 2,
   "id": "e9746de5",
   "metadata": {},
   "outputs": [
    {
     "name": "stdout",
     "output_type": "stream",
     "text": [
      "3\n"
     ]
    }
   ],
   "source": [
    "arr = np.array([10, 20, 30, 40, 50])\n",
    "\n",
    "pos = np.searchsorted(arr, 35)\n",
    "print(pos)   # 3 → 35 should go before 40\n"
   ]
  },
  {
   "cell_type": "markdown",
   "id": "d37ee09a",
   "metadata": {},
   "source": [
    "You can control side (left or right):"
   ]
  },
  {
   "cell_type": "code",
   "execution_count": 3,
   "id": "cf25fda9",
   "metadata": {},
   "outputs": [
    {
     "name": "stdout",
     "output_type": "stream",
     "text": [
      "2\n"
     ]
    }
   ],
   "source": [
    "pos = np.searchsorted(arr, 20, side='right')\n",
    "print(pos)   # 2 → after 20\n"
   ]
  },
  {
   "cell_type": "markdown",
   "id": "e3662e96",
   "metadata": {},
   "source": [
    "🔹 3. np.nonzero() → Find Non-Zero Elements\n",
    "\n",
    "Returns indexes of all non-zero elements."
   ]
  },
  {
   "cell_type": "code",
   "execution_count": 4,
   "id": "94b31db7",
   "metadata": {},
   "outputs": [
    {
     "name": "stdout",
     "output_type": "stream",
     "text": [
      "(array([1, 3, 4]),)\n"
     ]
    }
   ],
   "source": [
    "arr = np.array([0, 1, 0, 2, 3, 0])\n",
    "\n",
    "idx = np.nonzero(arr)\n",
    "print(idx)   # (array([1, 3, 4]),)\n"
   ]
  },
  {
   "cell_type": "markdown",
   "id": "9c8e9ef1",
   "metadata": {},
   "source": [
    "🔹 4. Boolean Indexing (Search with Conditions)\n",
    "\n",
    "You can directly filter values:"
   ]
  },
  {
   "cell_type": "code",
   "execution_count": 5,
   "id": "bca27e3c",
   "metadata": {},
   "outputs": [
    {
     "name": "stdout",
     "output_type": "stream",
     "text": [
      "[30 40 50]\n",
      "[20 40]\n"
     ]
    }
   ],
   "source": [
    "arr = np.array([10, 20, 30, 40, 50])\n",
    "\n",
    "print(arr[arr > 25])   # [30 40 50]\n",
    "print(arr[arr % 20 == 0])  # [20 40]\n"
   ]
  },
  {
   "cell_type": "markdown",
   "id": "1ae3be96",
   "metadata": {},
   "source": [
    "🔹 5. Example with 2D Arrays"
   ]
  },
  {
   "cell_type": "code",
   "execution_count": 6,
   "id": "5a5245cd",
   "metadata": {},
   "outputs": [
    {
     "name": "stdout",
     "output_type": "stream",
     "text": [
      "(array([1]), array([1]))\n",
      "[5]\n"
     ]
    }
   ],
   "source": [
    "mat = np.array([[1, 2, 3],\n",
    "                [4, 5, 6],\n",
    "                [7, 8, 9]])\n",
    "\n",
    "# Find where element == 5\n",
    "idx = np.where(mat == 5)\n",
    "print(idx)         # (array([1]), array([1]))\n",
    "print(mat[idx])    # [5]\n"
   ]
  },
  {
   "cell_type": "markdown",
   "id": "a5ddfc1d",
   "metadata": {},
   "source": [
    "✅ Summary:\n",
    "\n",
    "np.where() → Indexes matching condition\n",
    "\n",
    "np.searchsorted() → Insertion index (binary search)\n",
    "\n",
    "np.nonzero() → Indexes of non-zero values\n",
    "\n",
    "Boolean indexing → Directly filter elements"
   ]
  }
 ],
 "metadata": {
  "kernelspec": {
   "display_name": "Python 3",
   "language": "python",
   "name": "python3"
  },
  "language_info": {
   "codemirror_mode": {
    "name": "ipython",
    "version": 3
   },
   "file_extension": ".py",
   "mimetype": "text/x-python",
   "name": "python",
   "nbconvert_exporter": "python",
   "pygments_lexer": "ipython3",
   "version": "3.10.11"
  }
 },
 "nbformat": 4,
 "nbformat_minor": 5
}
