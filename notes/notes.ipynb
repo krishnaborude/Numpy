{
 "cells": [
  {
   "cell_type": "code",
   "execution_count": 2,
   "id": "22ad441a",
   "metadata": {},
   "outputs": [
    {
     "name": "stdout",
     "output_type": "stream",
     "text": [
      "[1 2 3 4 5]\n",
      "[1 2 3 4 5 6 7 8]\n"
     ]
    }
   ],
   "source": [
    "import numpy as np\n",
    "arr = np.array([1, 2, 3, 4, 5])\n",
    "new_arr = np.append(arr, [6, 7, 8])\n",
    "print(arr)\n",
    "print(new_arr)"
   ]
  },
  {
   "cell_type": "code",
   "execution_count": 3,
   "id": "b193ddca",
   "metadata": {},
   "outputs": [
    {
     "name": "stdout",
     "output_type": "stream",
     "text": [
      "int64\n",
      "[1. 2. 3.]\n"
     ]
    }
   ],
   "source": [
    "arr = np.array([1, 2, 3])\n",
    "print(arr.dtype)\n",
    "int_arr = np.array([1, 2, 3])\n",
    "print(int_arr.astype(float))\n"
   ]
  },
  {
   "cell_type": "code",
   "execution_count": 4,
   "id": "eb8367b7",
   "metadata": {},
   "outputs": [
    {
     "name": "stdout",
     "output_type": "stream",
     "text": [
      "[ 1  2  3  4  5  6  7  8  9 10]\n"
     ]
    }
   ],
   "source": [
    "arr = np.array([1, 2, 3, 4, 5])\n",
    "arr1 = np.array([6, 7, 8, 9, 10])\n",
    "new_arr = np.concatenate((arr, arr1))\n",
    "print(new_arr)"
   ]
  },
  {
   "cell_type": "code",
   "execution_count": 6,
   "id": "cb6ae1a7",
   "metadata": {},
   "outputs": [
    {
     "name": "stdout",
     "output_type": "stream",
     "text": [
      "[ 1  2 11 12  3  4  5]\n"
     ]
    }
   ],
   "source": [
    "new_arr = np.insert(arr, 2, [11, 12])\n",
    "print(new_arr)"
   ]
  },
  {
   "cell_type": "code",
   "execution_count": 14,
   "id": "371f7408",
   "metadata": {},
   "outputs": [
    {
     "name": "stdout",
     "output_type": "stream",
     "text": [
      "[[1 2 3]\n",
      " [7 8 9]\n",
      " [4 5 6]]\n",
      "[[1 7 2 3]\n",
      " [4 8 5 6]]\n"
     ]
    }
   ],
   "source": [
    "arr_2d = np.array([[1, 2, 3], [4, 5, 6]])\n",
    "new_arr_2d = np.insert(arr_2d, 1, [7, 8, 9], axis=0)\n",
    "print(new_arr_2d)\n",
    "new_arr_2d_axis1 = np.insert(arr_2d, 1, [7, 8], axis=1) \n",
    "print(new_arr_2d_axis1)"
   ]
  },
  {
   "cell_type": "code",
   "execution_count": 12,
   "id": "e930715f",
   "metadata": {},
   "outputs": [
    {
     "name": "stdout",
     "output_type": "stream",
     "text": [
      "[[[ 1  2]\n",
      "  [ 3  4]]\n",
      "\n",
      " [[ 9 10]\n",
      "  [11 12]]\n",
      "\n",
      " [[ 5  6]\n",
      "  [ 7  8]]]\n",
      "[3 4 5 6 7 8]\n",
      "(array([0, 0, 1, 1]), array([0, 1, 0, 1]), array([1, 1, 1, 1]))\n"
     ]
    }
   ],
   "source": [
    "arr_3d = np.array([[[1, 2], [3, 4]], [[5, 6], [7, 8]]])\n",
    "new_arr_3d = np.insert(arr_3d, 1, [[9, 10], [11, 12]], axis=0)\n",
    "print(new_arr_3d)\n",
    "print(arr_3d[arr_3d > 2])\n",
    "print(np.where(arr_3d % 2 == 0))"
   ]
  },
  {
   "cell_type": "code",
   "execution_count": 17,
   "id": "83583e34",
   "metadata": {},
   "outputs": [
    {
     "name": "stdout",
     "output_type": "stream",
     "text": [
      "[1 2 3 4 5]\n",
      "[1 2 4 5]\n"
     ]
    }
   ],
   "source": [
    "arr = np.array([1, 2, 3, 4, 5])\n",
    "print(arr)\n",
    "new_arr = np.delete(arr, 2)\n",
    "print(new_arr)"
   ]
  },
  {
   "cell_type": "code",
   "execution_count": 20,
   "id": "ad10dad3",
   "metadata": {},
   "outputs": [
    {
     "name": "stdout",
     "output_type": "stream",
     "text": [
      "[[1 2 3]]\n"
     ]
    }
   ],
   "source": [
    "arr_2d = np.array([[1, 2, 3], [4, 5, 6]])\n",
    "new_arr_2d = np.delete(arr_2d, 1, axis=0)\n",
    "print(new_arr_2d)"
   ]
  },
  {
   "cell_type": "code",
   "execution_count": null,
   "id": "1e632327",
   "metadata": {},
   "outputs": [],
   "source": []
  }
 ],
 "metadata": {
  "kernelspec": {
   "display_name": "Python 3",
   "language": "python",
   "name": "python3"
  },
  "language_info": {
   "codemirror_mode": {
    "name": "ipython",
    "version": 3
   },
   "file_extension": ".py",
   "mimetype": "text/x-python",
   "name": "python",
   "nbconvert_exporter": "python",
   "pygments_lexer": "ipython3",
   "version": "3.10.11"
  }
 },
 "nbformat": 4,
 "nbformat_minor": 5
}
