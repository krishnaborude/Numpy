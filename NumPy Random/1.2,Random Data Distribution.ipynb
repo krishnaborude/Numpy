{
 "cells": [
  {
   "cell_type": "markdown",
   "id": "255c1c0a",
   "metadata": {},
   "source": [
    "# 📘 Random Data Distribution in NumPy\n",
    "\n",
    "NumPy can generate random data following different probability distributions using numpy.random.\n",
    "This is useful in statistics, data science, simulations, and ML."
   ]
  },
  {
   "cell_type": "markdown",
   "id": "1eeb4b02",
   "metadata": {},
   "source": [
    "🔹 1. Uniform Distribution\n",
    "\n",
    "Numbers are equally likely in the given range.\n",
    "\n",
    "np.random.uniform(low, high, size)\n"
   ]
  },
  {
   "cell_type": "code",
   "execution_count": null,
   "id": "de8bacaa",
   "metadata": {},
   "outputs": [],
   "source": [
    "import numpy as np\n",
    "np.random.uniform(1.0, 5.0, 5)   # 5 floats between 1–5"
   ]
  },
  {
   "cell_type": "markdown",
   "id": "f2a3985e",
   "metadata": {},
   "source": [
    "🔹 2. Normal Distribution (Gaussian)\n",
    "\n",
    "Bell-shaped curve (most values around the mean).\n",
    "\n",
    "np.random.normal(loc, scale, size)\n",
    "\n",
    "loc → Mean (center)\n",
    "\n",
    "scale → Standard Deviation (spread)\n",
    "\n",
    "size → Shape"
   ]
  },
  {
   "cell_type": "code",
   "execution_count": null,
   "id": "e17eaf72",
   "metadata": {},
   "outputs": [],
   "source": [
    "np.random.normal(10, 2, 5)   # mean=10, std=2, 5 values"
   ]
  },
  {
   "cell_type": "markdown",
   "id": "35320846",
   "metadata": {},
   "source": [
    "🔹 3. Binomial Distribution\n",
    "\n",
    "Number of successes in n trials.\n",
    "\n",
    "np.random.binomial(n, p, size)\n",
    "\n",
    "n → number of trials\n",
    "\n",
    "p → probability of success"
   ]
  },
  {
   "cell_type": "code",
   "execution_count": 1,
   "id": "ae578f88",
   "metadata": {},
   "outputs": [
    {
     "ename": "NameError",
     "evalue": "name 'np' is not defined",
     "output_type": "error",
     "traceback": [
      "\u001b[1;31m---------------------------------------------------------------------------\u001b[0m",
      "\u001b[1;31mNameError\u001b[0m                                 Traceback (most recent call last)",
      "Cell \u001b[1;32mIn[1], line 1\u001b[0m\n\u001b[1;32m----> 1\u001b[0m \u001b[43mnp\u001b[49m\u001b[38;5;241m.\u001b[39mrandom\u001b[38;5;241m.\u001b[39mbinomial(\u001b[38;5;241m10\u001b[39m, \u001b[38;5;241m0.5\u001b[39m, \u001b[38;5;241m5\u001b[39m)   \u001b[38;5;66;03m# 5 experiments, 10 trials, p=0.5\u001b[39;00m\n",
      "\u001b[1;31mNameError\u001b[0m: name 'np' is not defined"
     ]
    }
   ],
   "source": [
    "np.random.binomial(10, 0.5, 5)   # 5 experiments, 10 trials, p=0.5"
   ]
  },
  {
   "cell_type": "markdown",
   "id": "52889814",
   "metadata": {},
   "source": [
    "🔹 4. Poisson Distribution\n",
    "\n",
    "Counts of events in a fixed interval (time/space).\n",
    "\n",
    "np.random.poisson(lam, size)\n",
    "\n",
    "lam → average number of events"
   ]
  },
  {
   "cell_type": "code",
   "execution_count": null,
   "id": "0b61eb02",
   "metadata": {},
   "outputs": [],
   "source": [
    "np.random.poisson(3, 10)   # 10 values, avg=3"
   ]
  },
  {
   "cell_type": "markdown",
   "id": "c7268e06",
   "metadata": {},
   "source": [
    "🔹 5. Exponential Distribution\n",
    "\n",
    "Time between events (like waiting time).\n",
    "\n",
    "np.random.exponential(scale, size)"
   ]
  },
  {
   "cell_type": "code",
   "execution_count": 2,
   "id": "3175b0c4",
   "metadata": {},
   "outputs": [
    {
     "ename": "NameError",
     "evalue": "name 'np' is not defined",
     "output_type": "error",
     "traceback": [
      "\u001b[1;31m---------------------------------------------------------------------------\u001b[0m",
      "\u001b[1;31mNameError\u001b[0m                                 Traceback (most recent call last)",
      "Cell \u001b[1;32mIn[2], line 1\u001b[0m\n\u001b[1;32m----> 1\u001b[0m \u001b[43mnp\u001b[49m\u001b[38;5;241m.\u001b[39mrandom\u001b[38;5;241m.\u001b[39mexponential(\u001b[38;5;241m2\u001b[39m, \u001b[38;5;241m5\u001b[39m)   \u001b[38;5;66;03m# avg waiting time = 2\u001b[39;00m\n",
      "\u001b[1;31mNameError\u001b[0m: name 'np' is not defined"
     ]
    }
   ],
   "source": [
    "np.random.exponential(2, 5)   # avg waiting time = 2"
   ]
  },
  {
   "cell_type": "markdown",
   "id": "9fc5e0ed",
   "metadata": {},
   "source": [
    "🔹 6. Other Distributions\n",
    "\n",
    "Chi-square: np.random.chisquare(df, size)\n",
    "\n",
    "Logistic: np.random.logistic(loc, scale, size)\n",
    "\n",
    "Multinomial: np.random.multinomial(n, pvals, size)\n",
    "\n",
    "Laplace: np.random.laplace(loc, scale, size)\n",
    "\n",
    "Zipf: np.random.zipf(a, size)"
   ]
  },
  {
   "cell_type": "markdown",
   "id": "4fab06a5",
   "metadata": {},
   "source": [
    "✅ Tip:\n",
    "\n",
    "Use Uniform for random ranges.\n",
    "\n",
    "Use Normal for real-world data (heights, test scores, etc.).\n",
    "\n",
    "Use Poisson/Binomial for event counts."
   ]
  },
  {
   "cell_type": "markdown",
   "id": "fb288820",
   "metadata": {},
   "source": []
  }
 ],
 "metadata": {
  "kernelspec": {
   "display_name": "Python 3",
   "language": "python",
   "name": "python3"
  },
  "language_info": {
   "codemirror_mode": {
    "name": "ipython",
    "version": 3
   },
   "file_extension": ".py",
   "mimetype": "text/x-python",
   "name": "python",
   "nbconvert_exporter": "python",
   "pygments_lexer": "ipython3",
   "version": "3.10.11"
  }
 },
 "nbformat": 4,
 "nbformat_minor": 5
}
