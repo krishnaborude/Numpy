{
 "cells": [
  {
   "cell_type": "markdown",
   "id": "87c0c76c",
   "metadata": {},
   "source": [
    "# 📘 Random Numbers in NumPy"
   ]
  },
  {
   "cell_type": "markdown",
   "id": "120930d8",
   "metadata": {},
   "source": [
    "NumPy provides powerful functions to generate random numbers through the numpy.random module.\n",
    "Used in simulations, ML, testing, and data analysis."
   ]
  },
  {
   "cell_type": "markdown",
   "id": "3e888e5a",
   "metadata": {},
   "source": [
    "🔹 1. Random Integers"
   ]
  },
  {
   "cell_type": "code",
   "execution_count": null,
   "id": "a4786c60",
   "metadata": {},
   "outputs": [
    {
     "data": {
      "text/plain": [
       "array([ 5,  5, 13], dtype=int32)"
      ]
     },
     "execution_count": 2,
     "metadata": {},
     "output_type": "execute_result"
    }
   ],
   "source": [
    "import numpy as np\n",
    "\n",
    "# np.random.randint(high)              # [0, high)\n",
    "# np.random.randint(low, high, size)   # [low, high)\n",
    "\n",
    "# ✅ Example:\n",
    "np.random.randint(10)          # Single int between 0–9\n",
    "np.random.randint(10, 50, 5)   # 5 ints between 10–49"
   ]
  },
  {
   "cell_type": "markdown",
   "id": "971ec0d3",
   "metadata": {},
   "source": [
    "🔹 2. Random Floats"
   ]
  },
  {
   "cell_type": "code",
   "execution_count": null,
   "id": "9a6db63c",
   "metadata": {},
   "outputs": [],
   "source": [
    "# np.random.rand()         # Float in [0,1)\n",
    "# np.random.rand(m, n)     # m x n array\n",
    "# ✅ Example:\n",
    "np.random.rand(3, 3)     # 3x3 random floats\n"
   ]
  },
  {
   "cell_type": "markdown",
   "id": "a092f187",
   "metadata": {},
   "source": [
    "🔹 3. Normal Distribution"
   ]
  },
  {
   "cell_type": "markdown",
   "id": "9e9b146d",
   "metadata": {},
   "source": [
    "np.random.randn(n)                  # mean=0, std=1\n",
    "\n",
    "np.random.normal(loc, scale, size)  # loc=mean, scale=std\n",
    "\n",
    "✅ Example:"
   ]
  },
  {
   "cell_type": "code",
   "execution_count": null,
   "id": "37a7c3b2",
   "metadata": {},
   "outputs": [],
   "source": [
    "np.random.normal(10, 2, 5)   # mean=10, std=2, size=5"
   ]
  },
  {
   "cell_type": "markdown",
   "id": "67bbfd33",
   "metadata": {},
   "source": [
    "🔹 5. Seed (Reproducibility)"
   ]
  },
  {
   "cell_type": "code",
   "execution_count": null,
   "id": "23c172d5",
   "metadata": {},
   "outputs": [],
   "source": [
    "np.random.seed(42)"
   ]
  },
  {
   "cell_type": "markdown",
   "id": "778bad7f",
   "metadata": {},
   "source": [
    "✅ Same sequence every run."
   ]
  },
  {
   "cell_type": "markdown",
   "id": "5c49b50e",
   "metadata": {},
   "source": [
    "🔹 6. Modern Way (Recommended)"
   ]
  },
  {
   "cell_type": "code",
   "execution_count": 3,
   "id": "935d9c53",
   "metadata": {},
   "outputs": [
    {
     "data": {
      "text/plain": [
       "array([5.75273772, 3.97149289, 6.54594384, 5.86608552, 5.09228449,\n",
       "       4.56407228, 4.47086766, 4.56218553, 5.63546058, 4.34655956])"
      ]
     },
     "execution_count": 3,
     "metadata": {},
     "output_type": "execute_result"
    }
   ],
   "source": [
    "rng = np.random.default_rng()\n",
    "rng.integers(0, 10, 5)\n",
    "rng.random((2, 2))\n",
    "rng.normal(5, 1, 10)\n"
   ]
  },
  {
   "cell_type": "markdown",
   "id": "2439382b",
   "metadata": {},
   "source": [
    "✅ Tip:\n",
    "\n",
    "Use default_rng() for new projects (safer, faster, and reproducible).\n",
    "\n",
    "Use seed() if you want identical results every time."
   ]
  },
  {
   "cell_type": "markdown",
   "id": "bfa978d6",
   "metadata": {},
   "source": []
  }
 ],
 "metadata": {
  "kernelspec": {
   "display_name": "Python 3",
   "language": "python",
   "name": "python3"
  },
  "language_info": {
   "codemirror_mode": {
    "name": "ipython",
    "version": 3
   },
   "file_extension": ".py",
   "mimetype": "text/x-python",
   "name": "python",
   "nbconvert_exporter": "python",
   "pygments_lexer": "ipython3",
   "version": "3.10.11"
  }
 },
 "nbformat": 4,
 "nbformat_minor": 5
}
