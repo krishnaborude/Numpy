{
 "cells": [
  {
   "cell_type": "markdown",
   "id": "e09865ac",
   "metadata": {},
   "source": [
    "# 📘 Random Permutations in NumPy\n",
    "\n",
    "Random permutations are used to shuffle data or generate a new ordering of elements.\n",
    "This is common in machine learning (shuffling datasets), games, and simulations."
   ]
  },
  {
   "cell_type": "markdown",
   "id": "75c0180a",
   "metadata": {},
   "source": [
    "🔹 1. numpy.random.permutation()\n",
    "\n",
    "    Returns a new array with randomly permuted order.\n",
    "\n",
    "    The original array is not changed."
   ]
  },
  {
   "cell_type": "code",
   "execution_count": 1,
   "id": "b3290f43",
   "metadata": {},
   "outputs": [
    {
     "name": "stdout",
     "output_type": "stream",
     "text": [
      "[1 4 2 3 5]\n",
      "[1 2 3 4 5]\n"
     ]
    }
   ],
   "source": [
    "import numpy as np\n",
    "\n",
    "arr = np.array([1, 2, 3, 4, 5])\n",
    "\n",
    "print(np.random.permutation(arr))   # Shuffled copy\n",
    "print(arr)                          # Original unchanged\n"
   ]
  },
  {
   "cell_type": "markdown",
   "id": "51dfcf2b",
   "metadata": {},
   "source": [
    "🔹 2. numpy.random.shuffle()\n",
    "\n",
    "Shuffles the array in place (modifies the original)."
   ]
  },
  {
   "cell_type": "code",
   "execution_count": 2,
   "id": "3e0da466",
   "metadata": {},
   "outputs": [
    {
     "name": "stdout",
     "output_type": "stream",
     "text": [
      "[2 4 1 5 3]\n"
     ]
    }
   ],
   "source": [
    "arr = np.array([1, 2, 3, 4, 5])\n",
    "\n",
    "np.random.shuffle(arr)\n",
    "print(arr)   # Original is shuffled"
   ]
  },
  {
   "cell_type": "markdown",
   "id": "ce70d1a0",
   "metadata": {},
   "source": [
    "🔹 3. Permutation of Integers\n",
    "\n",
    "You can directly shuffle a range of integers:"
   ]
  },
  {
   "cell_type": "code",
   "execution_count": 3,
   "metadata": {},
   "outputs": [
    {
     "name": "stdout",
     "output_type": "stream",
     "text": [
      "[5 9 2 0 4 8 1 7 6 3]\n"
     ]
    }
   ],
   "source": [
    "print(np.random.permutation(10))   # Random order of 0–9"
   ]
  },
  {
   "cell_type": "markdown",
   "id": "d3f9bfe0",
   "metadata": {},
   "source": [
    "🔹 4. Using the New Generator API (Recommended)"
   ]
  },
  {
   "cell_type": "code",
   "execution_count": 4,
   "id": "30e882a1",
   "metadata": {},
   "outputs": [
    {
     "name": "stdout",
     "output_type": "stream",
     "text": [
      "[40 10 30 50 20]\n",
      "[40 10 50 30 20]\n"
     ]
    }
   ],
   "source": [
    "rng = np.random.default_rng()\n",
    "\n",
    "arr = np.array([10, 20, 30, 40, 50])\n",
    "\n",
    "print(rng.permutation(arr))   # Shuffled copy\n",
    "rng.shuffle(arr)              # In-place shuffle\n",
    "print(arr)\n"
   ]
  },
  {
   "cell_type": "markdown",
   "id": "da0b84b3",
   "metadata": {},
   "source": [
    "🔹 5. Difference Between permutation() and shuffle()"
   ]
  },
  {
   "cell_type": "markdown",
   "id": "676cee8c",
   "metadata": {},
   "source": [
    "| Function      | Returns   | Modifies Original? | Example Use Case                       |\n",
    "| ------------- | --------- | ------------------ | -------------------------------------- |\n",
    "| `permutation` | New array | ❌ No               | When you need a shuffled copy          |\n",
    "| `shuffle`     | None      | ✅ Yes              | When you want to shuffle data directly |\n"
   ]
  },
  {
   "cell_type": "markdown",
   "id": "65dc688d",
   "metadata": {},
   "source": [
    "✅ Tip:\n",
    "\n",
    "Use shuffle() when preparing datasets for training ML models.\n",
    "\n",
    "Use permutation() when you need both the original and a shuffled copy."
   ]
  }
 ],
 "metadata": {
  "kernelspec": {
   "display_name": "Python 3",
   "language": "python",
   "name": "python3"
  },
  "language_info": {
   "codemirror_mode": {
    "name": "ipython",
    "version": 3
   },
   "file_extension": ".py",
   "mimetype": "text/x-python",
   "name": "python",
   "nbconvert_exporter": "python",
   "pygments_lexer": "ipython3",
   "version": "3.10.11"
  }
 },
 "nbformat": 4,
 "nbformat_minor": 5
}
